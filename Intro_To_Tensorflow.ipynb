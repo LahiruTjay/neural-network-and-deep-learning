{
  "nbformat": 4,
  "nbformat_minor": 0,
  "metadata": {
    "colab": {
      "name": "Intro_To_Tensorflow.ipynb",
      "version": "0.3.2",
      "provenance": [],
      "collapsed_sections": [],
      "toc_visible": true,
      "include_colab_link": true
    },
    "kernelspec": {
      "name": "python3",
      "display_name": "Python 3"
    }
  },
  "cells": [
    {
      "cell_type": "markdown",
      "metadata": {
        "id": "view-in-github",
        "colab_type": "text"
      },
      "source": [
        "<a href=\"https://colab.research.google.com/github/LahiruTjay/neural-network-and-deep-learning/blob/master/Intro_To_Tensorflow.ipynb\" target=\"_parent\"><img src=\"https://colab.research.google.com/assets/colab-badge.svg\" alt=\"Open In Colab\"/></a>"
      ]
    },
    {
      "metadata": {
        "id": "DXTL06oKWJwH",
        "colab_type": "text"
      },
      "cell_type": "markdown",
      "source": [
        "# Introduction to Tensorflow"
      ]
    },
    {
      "metadata": {
        "id": "XesIP73tnq3y",
        "colab_type": "code",
        "colab": {}
      },
      "cell_type": "code",
      "source": [
        "import tensorflow as tf"
      ],
      "execution_count": 0,
      "outputs": []
    },
    {
      "metadata": {
        "id": "8_Gli9XpHxql",
        "colab_type": "code",
        "outputId": "64741fd3-55d5-425d-eb3d-28c3733c1bba",
        "colab": {
          "base_uri": "https://localhost:8080/",
          "height": 35
        }
      },
      "cell_type": "code",
      "source": [
        "print(\"Tensorflow version: {}\".format(tf.__version__))"
      ],
      "execution_count": 2,
      "outputs": [
        {
          "output_type": "stream",
          "text": [
            "Tensorflow version: 1.12.0\n"
          ],
          "name": "stdout"
        }
      ]
    },
    {
      "metadata": {
        "id": "DEWJmwc9U1tW",
        "colab_type": "text"
      },
      "cell_type": "markdown",
      "source": [
        "## TF Constant"
      ]
    },
    {
      "metadata": {
        "id": "xOtKJ4hjttj8",
        "colab_type": "code",
        "outputId": "eb1e56a1-d745-4e7b-b1fc-e61d035f003c",
        "colab": {
          "base_uri": "https://localhost:8080/",
          "height": 35
        }
      },
      "cell_type": "code",
      "source": [
        "first_str = tf.constant('Lahiru')\n",
        "second_str = tf.constant('Liyanapathirana')\n",
        "\n",
        "final_str = first_str +  \" \" + second_str\n",
        "type(final_str)"
      ],
      "execution_count": 3,
      "outputs": [
        {
          "output_type": "execute_result",
          "data": {
            "text/plain": [
              "tensorflow.python.framework.ops.Tensor"
            ]
          },
          "metadata": {
            "tags": []
          },
          "execution_count": 3
        }
      ]
    },
    {
      "metadata": {
        "id": "ucco4PIlRIQv",
        "colab_type": "code",
        "outputId": "9c2928f7-d106-4f91-d2e6-0b8e76a95c2a",
        "colab": {
          "base_uri": "https://localhost:8080/",
          "height": 35
        }
      },
      "cell_type": "code",
      "source": [
        "with tf.Session() as sess:\n",
        "  result = sess.run(final_str)\n",
        "  print(result)"
      ],
      "execution_count": 4,
      "outputs": [
        {
          "output_type": "stream",
          "text": [
            "b'Lahiru Liyanapathirana'\n"
          ],
          "name": "stdout"
        }
      ]
    },
    {
      "metadata": {
        "id": "LfhXp6tWWVgO",
        "colab_type": "text"
      },
      "cell_type": "markdown",
      "source": [
        "## TF Placeholder"
      ]
    },
    {
      "metadata": {
        "id": "2vGr1ZxESdQw",
        "colab_type": "code",
        "colab": {}
      },
      "cell_type": "code",
      "source": [
        "num1 = tf.placeholder(tf.int32)\n",
        "num2 = tf.placeholder(tf.int32)\n",
        "add = tf.add(num1, num2)"
      ],
      "execution_count": 0,
      "outputs": []
    },
    {
      "metadata": {
        "id": "24ynxwFYgTX3",
        "colab_type": "code",
        "outputId": "3d93641f-6f8b-4cf8-c066-b8bbb31f86f3",
        "colab": {
          "base_uri": "https://localhost:8080/",
          "height": 35
        }
      },
      "cell_type": "code",
      "source": [
        "with tf.Session() as sess:\n",
        "  result = sess.run(add, feed_dict={num1:2, num2:3})\n",
        "  print(result)"
      ],
      "execution_count": 6,
      "outputs": [
        {
          "output_type": "stream",
          "text": [
            "5\n"
          ],
          "name": "stdout"
        }
      ]
    },
    {
      "metadata": {
        "id": "rHZyz7o2lYcn",
        "colab_type": "code",
        "colab": {}
      },
      "cell_type": "code",
      "source": [
        "n1 = tf.placeholder(tf.int32)\n",
        "n2 = tf.placeholder(tf.int32)\n",
        "n_add = tf.add(n1, n2)\n",
        "n_sub = tf.subtract(n_add, tf.constant(5))\n",
        "n_mul = tf.multiply(n_sub, n1)"
      ],
      "execution_count": 0,
      "outputs": []
    },
    {
      "metadata": {
        "id": "dSA-kLT7nPrs",
        "colab_type": "code",
        "outputId": "c7d5c399-cc22-4b22-fe9d-7951602f31a7",
        "colab": {
          "base_uri": "https://localhost:8080/",
          "height": 35
        }
      },
      "cell_type": "code",
      "source": [
        "with tf.Session() as sess:\n",
        "  result = sess.run(n_mul, feed_dict={n1:10, n2:20})\n",
        "  print(result)"
      ],
      "execution_count": 8,
      "outputs": [
        {
          "output_type": "stream",
          "text": [
            "250\n"
          ],
          "name": "stdout"
        }
      ]
    }
  ]
}