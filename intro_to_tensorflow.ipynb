{
  "nbformat": 4,
  "nbformat_minor": 0,
  "metadata": {
    "colab": {
      "name": "intro_to_tensorflow.ipynb",
      "version": "0.3.2",
      "provenance": [],
      "collapsed_sections": [],
      "toc_visible": true,
      "include_colab_link": true
    },
    "kernelspec": {
      "name": "python3",
      "display_name": "Python 3"
    }
  },
  "cells": [
    {
      "cell_type": "markdown",
      "metadata": {
        "id": "view-in-github",
        "colab_type": "text"
      },
      "source": [
        "<a href=\"https://colab.research.google.com/github/LahiruTjay/neural-networks-and-deep-learning/blob/master/intro_to_tensorflow.ipynb\" target=\"_parent\"><img src=\"https://colab.research.google.com/assets/colab-badge.svg\" alt=\"Open In Colab\"/></a>"
      ]
    },
    {
      "metadata": {
        "id": "DXTL06oKWJwH",
        "colab_type": "text"
      },
      "cell_type": "markdown",
      "source": [
        "# Introduction to Tensorflow"
      ]
    },
    {
      "metadata": {
        "id": "XesIP73tnq3y",
        "colab_type": "code",
        "colab": {}
      },
      "cell_type": "code",
      "source": [
        "import tensorflow as tf"
      ],
      "execution_count": 0,
      "outputs": []
    },
    {
      "metadata": {
        "id": "8_Gli9XpHxql",
        "colab_type": "code",
        "outputId": "2a885d37-aab9-4dc3-b4bc-2e094685a7de",
        "colab": {
          "base_uri": "https://localhost:8080/",
          "height": 54
        }
      },
      "cell_type": "code",
      "source": [
        "print(\"Tensorflow version: {}\".format(tf.__version__))"
      ],
      "execution_count": 2,
      "outputs": [
        {
          "output_type": "stream",
          "text": [
            "Tensorflow version: 1.12.0\n"
          ],
          "name": "stdout"
        }
      ]
    },
    {
      "metadata": {
        "id": "DEWJmwc9U1tW",
        "colab_type": "text"
      },
      "cell_type": "markdown",
      "source": [
        "## TF Constant"
      ]
    },
    {
      "metadata": {
        "id": "xOtKJ4hjttj8",
        "colab_type": "code",
        "outputId": "57a2b9b7-ac90-4935-c19b-88b2b01e15ab",
        "colab": {
          "base_uri": "https://localhost:8080/",
          "height": 54
        }
      },
      "cell_type": "code",
      "source": [
        "first_str = tf.constant('Lahiru')\n",
        "second_str = tf.constant('Liyanapathirana')\n",
        "\n",
        "final_str = first_str +  \" \" + second_str\n",
        "type(final_str)"
      ],
      "execution_count": 3,
      "outputs": [
        {
          "output_type": "execute_result",
          "data": {
            "text/plain": [
              "tensorflow.python.framework.ops.Tensor"
            ]
          },
          "metadata": {
            "tags": []
          },
          "execution_count": 3
        }
      ]
    },
    {
      "metadata": {
        "id": "ucco4PIlRIQv",
        "colab_type": "code",
        "outputId": "6a8940e6-7625-46e1-e966-a50cca27a1b9",
        "colab": {
          "base_uri": "https://localhost:8080/",
          "height": 34
        }
      },
      "cell_type": "code",
      "source": [
        "with tf.Session() as sess:\n",
        "  result = sess.run(final_str)\n",
        "  print(result)"
      ],
      "execution_count": 4,
      "outputs": [
        {
          "output_type": "stream",
          "text": [
            "b'Lahiru Liyanapathirana'\n"
          ],
          "name": "stdout"
        }
      ]
    },
    {
      "metadata": {
        "id": "CZfNskOocUPu",
        "colab_type": "code",
        "colab": {}
      },
      "cell_type": "code",
      "source": [
        "matrix1 = tf.constant([[1,3], \n",
        "                       [2,6]])\n",
        "matrix2 = tf.constant([[13,26], \n",
        "                       [23,52]])\n",
        "mat_mul = tf.matmul(matrix1, matrix2)"
      ],
      "execution_count": 0,
      "outputs": []
    },
    {
      "metadata": {
        "id": "UUj2WWgOc2tb",
        "colab_type": "code",
        "colab": {
          "base_uri": "https://localhost:8080/",
          "height": 51
        },
        "outputId": "6902dea9-836f-4aa0-a29b-b9165cce85cf"
      },
      "cell_type": "code",
      "source": [
        "with tf.Session() as sess:\n",
        "  result = sess.run(mat_mul)\n",
        "  print(result)"
      ],
      "execution_count": 6,
      "outputs": [
        {
          "output_type": "stream",
          "text": [
            "[[ 82 182]\n",
            " [164 364]]\n"
          ],
          "name": "stdout"
        }
      ]
    },
    {
      "metadata": {
        "id": "LfhXp6tWWVgO",
        "colab_type": "text"
      },
      "cell_type": "markdown",
      "source": [
        "## TF Placeholder"
      ]
    },
    {
      "metadata": {
        "id": "2vGr1ZxESdQw",
        "colab_type": "code",
        "colab": {}
      },
      "cell_type": "code",
      "source": [
        "num1 = tf.placeholder(tf.int32)\n",
        "num2 = tf.placeholder(tf.int32)\n",
        "add = tf.add(num1, num2)"
      ],
      "execution_count": 0,
      "outputs": []
    },
    {
      "metadata": {
        "id": "24ynxwFYgTX3",
        "colab_type": "code",
        "outputId": "1dcb70de-357d-4b2c-bdae-e17b8c375e61",
        "colab": {
          "base_uri": "https://localhost:8080/",
          "height": 34
        }
      },
      "cell_type": "code",
      "source": [
        "with tf.Session() as sess:\n",
        "  result = sess.run(add, feed_dict={num1:2, num2:3})\n",
        "  print(result)"
      ],
      "execution_count": 8,
      "outputs": [
        {
          "output_type": "stream",
          "text": [
            "5\n"
          ],
          "name": "stdout"
        }
      ]
    },
    {
      "metadata": {
        "id": "rHZyz7o2lYcn",
        "colab_type": "code",
        "colab": {}
      },
      "cell_type": "code",
      "source": [
        "n1 = tf.placeholder(tf.int32)\n",
        "n2 = tf.placeholder(tf.int32)\n",
        "n_add = tf.add(n1, n2)\n",
        "n_sub = tf.subtract(n_add, tf.constant(5))\n",
        "n_mul = tf.multiply(n_sub, n1)"
      ],
      "execution_count": 0,
      "outputs": []
    },
    {
      "metadata": {
        "id": "dSA-kLT7nPrs",
        "colab_type": "code",
        "outputId": "87e46be0-18a7-46e9-9ae3-8dabf79cc40f",
        "colab": {
          "base_uri": "https://localhost:8080/",
          "height": 34
        }
      },
      "cell_type": "code",
      "source": [
        "with tf.Session() as sess:\n",
        "  result = sess.run(n_mul, feed_dict={n1:10, n2:20})\n",
        "  print(result)"
      ],
      "execution_count": 10,
      "outputs": [
        {
          "output_type": "stream",
          "text": [
            "250\n"
          ],
          "name": "stdout"
        }
      ]
    },
    {
      "metadata": {
        "id": "z3UBLUDOTyUT",
        "colab_type": "text"
      },
      "cell_type": "markdown",
      "source": [
        "## TF Variable"
      ]
    },
    {
      "metadata": {
        "id": "cli9Lf6wn9kX",
        "colab_type": "code",
        "colab": {}
      },
      "cell_type": "code",
      "source": [
        "p = tf.placeholder(tf.float32, shape = [], name = \"p\")\n",
        "v2 = tf.Variable(2. , name = \"v2\")\n",
        "a = tf.add(p, v2)"
      ],
      "execution_count": 0,
      "outputs": []
    },
    {
      "metadata": {
        "id": "VU7FfDeMq30N",
        "colab_type": "code",
        "outputId": "79689b9d-7149-4e56-c9e2-a431cd5884de",
        "colab": {
          "base_uri": "https://localhost:8080/",
          "height": 85
        }
      },
      "cell_type": "code",
      "source": [
        "with tf.Session() as sess:\n",
        "  sess.run(tf.global_variables_initializer()) # Initialize global variables\n",
        "  print(sess.run(v2))\n",
        "  \n",
        "  print(sess.run(a, feed_dict={p:20})) #\n",
        "  \n",
        "  try:\n",
        "    sess.run(a) # Need to feed values to evaluate\n",
        "  except Exception as e:\n",
        "    print(\"Error occured.\")\n",
        "    \n",
        "  print(sess.run(v2)) # Variable is accesible"
      ],
      "execution_count": 12,
      "outputs": [
        {
          "output_type": "stream",
          "text": [
            "2.0\n",
            "22.0\n",
            "Error occured.\n",
            "2.0\n"
          ],
          "name": "stdout"
        }
      ]
    }
  ]
}