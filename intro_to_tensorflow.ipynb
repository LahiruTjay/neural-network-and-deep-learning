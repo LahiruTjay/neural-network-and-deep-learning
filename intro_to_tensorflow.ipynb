{
  "nbformat": 4,
  "nbformat_minor": 0,
  "metadata": {
    "colab": {
      "name": "intro_to_tensorflow.ipynb",
      "version": "0.3.2",
      "provenance": [],
      "collapsed_sections": [],
      "toc_visible": true,
      "include_colab_link": true
    },
    "kernelspec": {
      "name": "python3",
      "display_name": "Python 3"
    },
    "accelerator": "GPU"
  },
  "cells": [
    {
      "cell_type": "markdown",
      "metadata": {
        "id": "view-in-github",
        "colab_type": "text"
      },
      "source": [
        "<a href=\"https://colab.research.google.com/github/LahiruTjay/neural-networks-and-deep-learning/blob/master/intro_to_tensorflow.ipynb\" target=\"_parent\"><img src=\"https://colab.research.google.com/assets/colab-badge.svg\" alt=\"Open In Colab\"/></a>"
      ]
    },
    {
      "metadata": {
        "id": "DXTL06oKWJwH",
        "colab_type": "text"
      },
      "cell_type": "markdown",
      "source": [
        "# Introduction to Tensorflow"
      ]
    },
    {
      "metadata": {
        "id": "XesIP73tnq3y",
        "colab_type": "code",
        "colab": {}
      },
      "cell_type": "code",
      "source": [
        "import numpy as np\n",
        "import tensorflow as tf"
      ],
      "execution_count": 0,
      "outputs": []
    },
    {
      "metadata": {
        "id": "8_Gli9XpHxql",
        "colab_type": "code",
        "outputId": "3722ae4c-c6b5-45fa-ad0a-ee3e45633dfd",
        "colab": {
          "base_uri": "https://localhost:8080/",
          "height": 35
        }
      },
      "cell_type": "code",
      "source": [
        "print(\"Tensorflow version: {}\".format(tf.__version__))"
      ],
      "execution_count": 2,
      "outputs": [
        {
          "output_type": "stream",
          "text": [
            "Tensorflow version: 1.13.1\n"
          ],
          "name": "stdout"
        }
      ]
    },
    {
      "metadata": {
        "id": "DEWJmwc9U1tW",
        "colab_type": "text"
      },
      "cell_type": "markdown",
      "source": [
        "## TF Constant"
      ]
    },
    {
      "metadata": {
        "id": "xOtKJ4hjttj8",
        "colab_type": "code",
        "outputId": "24fef9b1-d3cc-4080-9b5a-d6e6777053bb",
        "colab": {
          "base_uri": "https://localhost:8080/",
          "height": 35
        }
      },
      "cell_type": "code",
      "source": [
        "first_str = tf.constant('Lahiru')\n",
        "second_str = tf.constant('Liyanapathirana')\n",
        "third_str = tf.constant('is awesome')\n",
        "\n",
        "final_str = first_str +  \" \" + second_str + \" \" + third_str\n",
        "type(final_str)"
      ],
      "execution_count": 3,
      "outputs": [
        {
          "output_type": "execute_result",
          "data": {
            "text/plain": [
              "tensorflow.python.framework.ops.Tensor"
            ]
          },
          "metadata": {
            "tags": []
          },
          "execution_count": 3
        }
      ]
    },
    {
      "metadata": {
        "id": "ucco4PIlRIQv",
        "colab_type": "code",
        "outputId": "181e880d-ce84-44cc-fbe6-c1ed172bd85f",
        "colab": {
          "base_uri": "https://localhost:8080/",
          "height": 35
        }
      },
      "cell_type": "code",
      "source": [
        "with tf.Session() as sess:\n",
        "  result = sess.run(final_str)\n",
        "  print(result)"
      ],
      "execution_count": 4,
      "outputs": [
        {
          "output_type": "stream",
          "text": [
            "b'Lahiru Liyanapathirana is awesome'\n"
          ],
          "name": "stdout"
        }
      ]
    },
    {
      "metadata": {
        "id": "CZfNskOocUPu",
        "colab_type": "code",
        "colab": {}
      },
      "cell_type": "code",
      "source": [
        "matrix1 = tf.constant([[1,3], \n",
        "                       [2,6]])\n",
        "matrix2 = tf.constant([[13,26], \n",
        "                       [23,52]])\n",
        "mat_mul = tf.matmul(matrix1, matrix2)"
      ],
      "execution_count": 0,
      "outputs": []
    },
    {
      "metadata": {
        "id": "UUj2WWgOc2tb",
        "colab_type": "code",
        "outputId": "93a56e14-f341-4786-bfe3-56e265701552",
        "colab": {
          "base_uri": "https://localhost:8080/",
          "height": 52
        }
      },
      "cell_type": "code",
      "source": [
        "with tf.Session() as sess:\n",
        "  result = sess.run(mat_mul)\n",
        "  print(result)"
      ],
      "execution_count": 6,
      "outputs": [
        {
          "output_type": "stream",
          "text": [
            "[[ 82 182]\n",
            " [164 364]]\n"
          ],
          "name": "stdout"
        }
      ]
    },
    {
      "metadata": {
        "id": "LfhXp6tWWVgO",
        "colab_type": "text"
      },
      "cell_type": "markdown",
      "source": [
        "## TF Placeholder"
      ]
    },
    {
      "metadata": {
        "id": "2vGr1ZxESdQw",
        "colab_type": "code",
        "colab": {}
      },
      "cell_type": "code",
      "source": [
        "num1 = tf.placeholder(tf.int32)\n",
        "num2 = tf.placeholder(tf.int32)\n",
        "add = tf.add(num1, num2)"
      ],
      "execution_count": 0,
      "outputs": []
    },
    {
      "metadata": {
        "id": "24ynxwFYgTX3",
        "colab_type": "code",
        "outputId": "1100913b-5623-474d-943f-24e529722b60",
        "colab": {
          "base_uri": "https://localhost:8080/",
          "height": 35
        }
      },
      "cell_type": "code",
      "source": [
        "with tf.Session() as sess:\n",
        "  result = sess.run(add, feed_dict={num1:2, num2:3})\n",
        "  print(result)"
      ],
      "execution_count": 8,
      "outputs": [
        {
          "output_type": "stream",
          "text": [
            "5\n"
          ],
          "name": "stdout"
        }
      ]
    },
    {
      "metadata": {
        "id": "rHZyz7o2lYcn",
        "colab_type": "code",
        "colab": {}
      },
      "cell_type": "code",
      "source": [
        "n1 = tf.placeholder(tf.int32)\n",
        "n2 = tf.placeholder(tf.int32)"
      ],
      "execution_count": 0,
      "outputs": []
    },
    {
      "metadata": {
        "id": "W36es7zJFyE9",
        "colab_type": "code",
        "colab": {}
      },
      "cell_type": "code",
      "source": [
        "n_add = tf.add(n1, n2)\n",
        "n_sub = tf.subtract(n_add, tf.constant(5))\n",
        "n_mul = tf.multiply(n_sub, n1)"
      ],
      "execution_count": 0,
      "outputs": []
    },
    {
      "metadata": {
        "id": "dSA-kLT7nPrs",
        "colab_type": "code",
        "outputId": "53e88bdb-e1f8-405a-8fdb-17e7559e8417",
        "colab": {
          "base_uri": "https://localhost:8080/",
          "height": 35
        }
      },
      "cell_type": "code",
      "source": [
        "with tf.Session() as sess:\n",
        "  result = sess.run(n_mul, feed_dict={n1:10, n2:20})\n",
        "  print(result)"
      ],
      "execution_count": 11,
      "outputs": [
        {
          "output_type": "stream",
          "text": [
            "250\n"
          ],
          "name": "stdout"
        }
      ]
    },
    {
      "metadata": {
        "id": "z3UBLUDOTyUT",
        "colab_type": "text"
      },
      "cell_type": "markdown",
      "source": [
        "## TF Variable"
      ]
    },
    {
      "metadata": {
        "id": "cli9Lf6wn9kX",
        "colab_type": "code",
        "outputId": "49ee7c4f-5f35-4bc6-ab5a-ffc047376634",
        "colab": {
          "base_uri": "https://localhost:8080/",
          "height": 90
        }
      },
      "cell_type": "code",
      "source": [
        "p = tf.placeholder(tf.float32, shape = [], name = \"p\")\n",
        "v2 = tf.Variable(2. , name = \"v2\")\n",
        "a = tf.add(p, v2)"
      ],
      "execution_count": 12,
      "outputs": [
        {
          "output_type": "stream",
          "text": [
            "WARNING:tensorflow:From /usr/local/lib/python3.6/dist-packages/tensorflow/python/framework/op_def_library.py:263: colocate_with (from tensorflow.python.framework.ops) is deprecated and will be removed in a future version.\n",
            "Instructions for updating:\n",
            "Colocations handled automatically by placer.\n"
          ],
          "name": "stdout"
        }
      ]
    },
    {
      "metadata": {
        "id": "VU7FfDeMq30N",
        "colab_type": "code",
        "outputId": "cc85593a-8f00-4b22-d2cd-5a770537d082",
        "colab": {
          "base_uri": "https://localhost:8080/",
          "height": 88
        }
      },
      "cell_type": "code",
      "source": [
        "with tf.Session() as sess:\n",
        "  sess.run(tf.global_variables_initializer()) # Initialize global variables\n",
        "  print(sess.run(v2))\n",
        "  \n",
        "  print(sess.run(a, feed_dict={p:20})) #\n",
        "  \n",
        "  try:\n",
        "    sess.run(a) # Need to feed values to evaluate\n",
        "  except Exception as e:\n",
        "    print(\"Error occured.\")\n",
        "    \n",
        "  print(sess.run(v2)) # Variable is accesible"
      ],
      "execution_count": 13,
      "outputs": [
        {
          "output_type": "stream",
          "text": [
            "2.0\n",
            "22.0\n",
            "Error occured.\n",
            "2.0\n"
          ],
          "name": "stdout"
        }
      ]
    },
    {
      "metadata": {
        "id": "DvJ69p8YKSI3",
        "colab_type": "code",
        "colab": {}
      },
      "cell_type": "code",
      "source": [
        "x = np.array([0,1,2,3,4,5,6,7,8,9,10])\n",
        "y = np.array([0,2,4,6,8,10,12,14,16,18,22])"
      ],
      "execution_count": 0,
      "outputs": []
    },
    {
      "metadata": {
        "id": "3aBmOrm_S72K",
        "colab_type": "code",
        "colab": {}
      },
      "cell_type": "code",
      "source": [
        "w = tf.Variable(0.0)"
      ],
      "execution_count": 0,
      "outputs": []
    },
    {
      "metadata": {
        "id": "paX0HBdvTKUO",
        "colab_type": "code",
        "colab": {}
      },
      "cell_type": "code",
      "source": [
        "input_x = tf.placeholder(tf.float32)\n",
        "input_y = tf.placeholder(tf.float32)"
      ],
      "execution_count": 0,
      "outputs": []
    },
    {
      "metadata": {
        "id": "eWHiCbDlWNBp",
        "colab_type": "code",
        "colab": {}
      },
      "cell_type": "code",
      "source": [
        "prediction = tf.multiply(w, x)\n",
        "cost = tf.reduce_sum(tf.square(prediction - y)) # Mean squared error\n",
        "optimizer = tf.train.GradientDescentOptimizer(0.01).minimize(cost) # Gradient Descent"
      ],
      "execution_count": 0,
      "outputs": []
    },
    {
      "metadata": {
        "id": "9zRvQTGZHN-2",
        "colab_type": "code",
        "outputId": "1dd81929-1d1a-4e19-d34c-df13caa80f33",
        "colab": {
          "base_uri": "https://localhost:8080/",
          "height": 390
        }
      },
      "cell_type": "code",
      "source": [
        "with tf.Session() as sess:\n",
        "  sess.run(tf.global_variables_initializer()) # Initialize variables\n",
        "  print(\"w = \", sess.run(w))\n",
        "  \n",
        "  for i in range(5):\n",
        "    optimized_result = sess.run(optimizer, feed_dict = {input_x:x, input_y:y})\n",
        "    sess.run(prediction)\n",
        "    print(\"cost = \", sess.run(cost))\n",
        "    print(\"optimized result = \", optimized_result)\n",
        "    print(\"w updated = \", sess.run(w))\n",
        "    print(\"-------------------------\")\n",
        "  "
      ],
      "execution_count": 18,
      "outputs": [
        {
          "output_type": "stream",
          "text": [
            "w =  0.0\n",
            "cost =  72771.39\n",
            "optimized result =  None\n",
            "w updated =  15.799999\n",
            "-------------------------\n",
            "cost =  3266578.0\n",
            "optimized result =  None\n",
            "w updated =  -90.06\n",
            "-------------------------\n",
            "cost =  146636540.0\n",
            "optimized result =  None\n",
            "w updated =  619.20197\n",
            "-------------------------\n",
            "cost =  6582514000.0\n",
            "optimized result =  None\n",
            "w updated =  -4132.853\n",
            "-------------------------\n",
            "cost =  295489000000.0\n",
            "optimized result =  None\n",
            "w updated =  27705.914\n",
            "-------------------------\n"
          ],
          "name": "stdout"
        }
      ]
    },
    {
      "metadata": {
        "id": "0G-xvOZQV8WE",
        "colab_type": "text"
      },
      "cell_type": "markdown",
      "source": [
        "## Function Evaluation"
      ]
    },
    {
      "metadata": {
        "id": "BiwMUSHFXbrJ",
        "colab_type": "text"
      },
      "cell_type": "markdown",
      "source": [
        "We will evaluate the following expression: \n",
        "f(x,y) = xz + x^2 + z + 5 + 2x"
      ]
    },
    {
      "metadata": {
        "id": "7-YKYN3kuxCV",
        "colab_type": "text"
      },
      "cell_type": "markdown",
      "source": [
        "\n",
        "*   x: Initialize a variable called x with a constant value of 5\n",
        "*   z: Initialize a variable called z with a constant value of 6\n",
        "*   c: Initialize a constant tensor called c with a constant value of 5\n",
        "*   square: Initialize a constant tensor called square with a constant value of 2\n",
        "*   f: Construct the operator"
      ]
    },
    {
      "metadata": {
        "id": "iwsgYhesZAny",
        "colab_type": "code",
        "colab": {}
      },
      "cell_type": "code",
      "source": [
        "x = tf.get_variable(\"x\", dtype=tf.int32,  initializer=tf.constant([5]))\n",
        "z = tf.get_variable(\"z\", dtype=tf.int32,  initializer=tf.constant([6]))\n",
        "c = tf.constant([5], name =\t\"constant\") \n",
        "square = tf.constant([2], name =\t\"square\")\n",
        "f = tf.multiply(x, z) + tf.pow(x, square) + z + c + tf.multiply(square, x)"
      ],
      "execution_count": 0,
      "outputs": []
    },
    {
      "metadata": {
        "id": "fFXW7g6iuM4a",
        "colab_type": "code",
        "outputId": "155687d2-5dc4-4965-e82e-24ca49837a2b",
        "colab": {
          "base_uri": "https://localhost:8080/",
          "height": 35
        }
      },
      "cell_type": "code",
      "source": [
        "init = tf.global_variables_initializer() # prepare to initialize all variables\n",
        "with tf.Session() as sess:    \n",
        "  init.run() # Initialize x and y    \n",
        "  function_result = f.eval()\n",
        "print(function_result)   "
      ],
      "execution_count": 20,
      "outputs": [
        {
          "output_type": "stream",
          "text": [
            "[76]\n"
          ],
          "name": "stdout"
        }
      ]
    },
    {
      "metadata": {
        "id": "UP1styi_xgu3",
        "colab_type": "text"
      },
      "cell_type": "markdown",
      "source": [
        "## Simple Linear Model"
      ]
    },
    {
      "metadata": {
        "id": "5gtg_DOoxk9j",
        "colab_type": "code",
        "colab": {}
      },
      "cell_type": "code",
      "source": [
        "x = tf.placeholder(dtype=tf.float32, shape=(None,1))\n",
        "y_true = tf.placeholder(dtype = tf.float32, shape = (None,1))"
      ],
      "execution_count": 0,
      "outputs": []
    },
    {
      "metadata": {
        "id": "s7FYlO5QM3R6",
        "colab_type": "code",
        "colab": {}
      },
      "cell_type": "code",
      "source": [
        "linear_model = tf.layers.Dense(units = 1, bias_initializer = tf.constant_initializer(1))\n",
        "y_pred = linear_model(x)"
      ],
      "execution_count": 0,
      "outputs": []
    },
    {
      "metadata": {
        "id": "5miyr_DzJIgP",
        "colab_type": "code",
        "outputId": "f48bab30-a6c7-4f93-a85a-6f095eb218ef",
        "colab": {
          "base_uri": "https://localhost:8080/",
          "height": 90
        }
      },
      "cell_type": "code",
      "source": [
        "loss = tf.losses.mean_squared_error(labels = y_true, predictions = y_pred)"
      ],
      "execution_count": 23,
      "outputs": [
        {
          "output_type": "stream",
          "text": [
            "WARNING:tensorflow:From /usr/local/lib/python3.6/dist-packages/tensorflow/python/ops/losses/losses_impl.py:667: to_float (from tensorflow.python.ops.math_ops) is deprecated and will be removed in a future version.\n",
            "Instructions for updating:\n",
            "Use tf.cast instead.\n"
          ],
          "name": "stdout"
        }
      ]
    },
    {
      "metadata": {
        "id": "j3jDqNLSN6XX",
        "colab_type": "code",
        "colab": {}
      },
      "cell_type": "code",
      "source": [
        "optimizer = tf.train.GradientDescentOptimizer(0.01)\n",
        "train = optimizer.minimize(loss)"
      ],
      "execution_count": 0,
      "outputs": []
    },
    {
      "metadata": {
        "id": "K0zWYmePJ2G7",
        "colab_type": "code",
        "colab": {}
      },
      "cell_type": "code",
      "source": [
        "init = tf.global_variables_initializer()"
      ],
      "execution_count": 0,
      "outputs": []
    },
    {
      "metadata": {
        "id": "-uwyWJ98J7M2",
        "colab_type": "code",
        "colab": {}
      },
      "cell_type": "code",
      "source": [
        "x_values = np.array([[1], [2], [3], [4]])\n",
        "y_values = np.array([[0], [-1], [-2], [-3]])"
      ],
      "execution_count": 0,
      "outputs": []
    },
    {
      "metadata": {
        "id": "7ptojtkXLyNR",
        "colab_type": "code",
        "outputId": "441c3108-7109-44dc-f2b3-c77d9989cf3f",
        "colab": {
          "base_uri": "https://localhost:8080/",
          "height": 141
        }
      },
      "cell_type": "code",
      "source": [
        "with tf.Session() as sess:\n",
        "  \n",
        "  sess.run(init)\n",
        "  \n",
        "  for i in range(1000):\n",
        "    _, loss_value = sess.run((train, loss), feed_dict = {x:x_values, y_true:y_values})\n",
        "    print(loss_value, end='\\r')\n",
        "    \n",
        "  weights = sess.run(linear_model.weights)\n",
        "  bias = sess.run(linear_model.bias)\n",
        "  preds = sess.run(y_pred, feed_dict = {x:x_values})\n",
        "  \n",
        "  print(\"The weight is: \", weights)\n",
        "  print(\"The bias is: \", bias)\n",
        "  print(\"The predictions are: \\n\", preds)"
      ],
      "execution_count": 27,
      "outputs": [
        {
          "output_type": "stream",
          "text": [
            "The weight is:  [array([[-0.98965675]], dtype=float32), array([0.96958953], dtype=float32)]\n",
            "The bias is:  [0.96958953]\n",
            "The predictions are: \n",
            " [[-0.02006721]\n",
            " [-1.0097239 ]\n",
            " [-1.9993808 ]\n",
            " [-2.9890375 ]]\n"
          ],
          "name": "stdout"
        }
      ]
    },
    {
      "metadata": {
        "id": "ea0ilDP_PAIL",
        "colab_type": "code",
        "colab": {}
      },
      "cell_type": "code",
      "source": [
        "# Get the weight\n",
        "w = weights[0].tolist()[0][0]"
      ],
      "execution_count": 0,
      "outputs": []
    },
    {
      "metadata": {
        "id": "lNNE8u6jPCyA",
        "colab_type": "code",
        "colab": {}
      },
      "cell_type": "code",
      "source": [
        "# Get the bias\n",
        "b = weights[1].tolist()[0]"
      ],
      "execution_count": 0,
      "outputs": []
    },
    {
      "metadata": {
        "id": "XWJFVYiVPE4v",
        "colab_type": "code",
        "outputId": "7a344376-8f11-42af-8f2a-89a9d8dd3409",
        "colab": {
          "base_uri": "https://localhost:8080/",
          "height": 88
        }
      },
      "cell_type": "code",
      "source": [
        "# Make predictions based on the weight and bias\n",
        "x_values * w + b"
      ],
      "execution_count": 30,
      "outputs": [
        {
          "output_type": "execute_result",
          "data": {
            "text/plain": [
              "array([[-0.02006721],\n",
              "       [-1.00972396],\n",
              "       [-1.99938071],\n",
              "       [-2.98903745]])"
            ]
          },
          "metadata": {
            "tags": []
          },
          "execution_count": 30
        }
      ]
    }
  ]
}