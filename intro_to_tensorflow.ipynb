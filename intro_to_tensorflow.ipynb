{
  "nbformat": 4,
  "nbformat_minor": 0,
  "metadata": {
    "colab": {
      "name": "intro_to_tensorflow.ipynb",
      "version": "0.3.2",
      "provenance": [],
      "collapsed_sections": [],
      "toc_visible": true,
      "include_colab_link": true
    },
    "kernelspec": {
      "name": "python3",
      "display_name": "Python 3"
    },
    "accelerator": "GPU"
  },
  "cells": [
    {
      "cell_type": "markdown",
      "metadata": {
        "id": "view-in-github",
        "colab_type": "text"
      },
      "source": [
        "<a href=\"https://colab.research.google.com/github/LahiruTjay/neural-networks-and-deep-learning/blob/master/intro_to_tensorflow.ipynb\" target=\"_parent\"><img src=\"https://colab.research.google.com/assets/colab-badge.svg\" alt=\"Open In Colab\"/></a>"
      ]
    },
    {
      "metadata": {
        "id": "DXTL06oKWJwH",
        "colab_type": "text"
      },
      "cell_type": "markdown",
      "source": [
        "# Introduction to Tensorflow"
      ]
    },
    {
      "metadata": {
        "id": "XesIP73tnq3y",
        "colab_type": "code",
        "colab": {}
      },
      "cell_type": "code",
      "source": [
        "import numpy as np\n",
        "import tensorflow as tf"
      ],
      "execution_count": 0,
      "outputs": []
    },
    {
      "metadata": {
        "id": "8_Gli9XpHxql",
        "colab_type": "code",
        "outputId": "7d63a65d-80bc-44b3-a402-8a80e56eced1",
        "colab": {
          "base_uri": "https://localhost:8080/",
          "height": 35
        }
      },
      "cell_type": "code",
      "source": [
        "print(\"Tensorflow version: {}\".format(tf.__version__))"
      ],
      "execution_count": 2,
      "outputs": [
        {
          "output_type": "stream",
          "text": [
            "Tensorflow version: 1.12.0\n"
          ],
          "name": "stdout"
        }
      ]
    },
    {
      "metadata": {
        "id": "DEWJmwc9U1tW",
        "colab_type": "text"
      },
      "cell_type": "markdown",
      "source": [
        "## TF Constant"
      ]
    },
    {
      "metadata": {
        "id": "xOtKJ4hjttj8",
        "colab_type": "code",
        "outputId": "051dd857-0fa4-4a08-cdcc-0ce55a3db451",
        "colab": {
          "base_uri": "https://localhost:8080/",
          "height": 35
        }
      },
      "cell_type": "code",
      "source": [
        "first_str = tf.constant('Lahiru')\n",
        "second_str = tf.constant('Liyanapathirana')\n",
        "\n",
        "final_str = first_str +  \" \" + second_str\n",
        "type(final_str)"
      ],
      "execution_count": 3,
      "outputs": [
        {
          "output_type": "execute_result",
          "data": {
            "text/plain": [
              "tensorflow.python.framework.ops.Tensor"
            ]
          },
          "metadata": {
            "tags": []
          },
          "execution_count": 3
        }
      ]
    },
    {
      "metadata": {
        "id": "ucco4PIlRIQv",
        "colab_type": "code",
        "outputId": "7af53284-65c9-47a4-9f00-11a0dee11070",
        "colab": {
          "base_uri": "https://localhost:8080/",
          "height": 35
        }
      },
      "cell_type": "code",
      "source": [
        "with tf.Session() as sess:\n",
        "  result = sess.run(final_str)\n",
        "  print(result)"
      ],
      "execution_count": 4,
      "outputs": [
        {
          "output_type": "stream",
          "text": [
            "b'Lahiru Liyanapathirana'\n"
          ],
          "name": "stdout"
        }
      ]
    },
    {
      "metadata": {
        "id": "CZfNskOocUPu",
        "colab_type": "code",
        "colab": {}
      },
      "cell_type": "code",
      "source": [
        "matrix1 = tf.constant([[1,3], \n",
        "                       [2,6]])\n",
        "matrix2 = tf.constant([[13,26], \n",
        "                       [23,52]])\n",
        "mat_mul = tf.matmul(matrix1, matrix2)"
      ],
      "execution_count": 0,
      "outputs": []
    },
    {
      "metadata": {
        "id": "UUj2WWgOc2tb",
        "colab_type": "code",
        "outputId": "6b542d49-7f3a-41e5-ba4c-3cb5b46fd7e8",
        "colab": {
          "base_uri": "https://localhost:8080/",
          "height": 52
        }
      },
      "cell_type": "code",
      "source": [
        "with tf.Session() as sess:\n",
        "  result = sess.run(mat_mul)\n",
        "  print(result)"
      ],
      "execution_count": 6,
      "outputs": [
        {
          "output_type": "stream",
          "text": [
            "[[ 82 182]\n",
            " [164 364]]\n"
          ],
          "name": "stdout"
        }
      ]
    },
    {
      "metadata": {
        "id": "LfhXp6tWWVgO",
        "colab_type": "text"
      },
      "cell_type": "markdown",
      "source": [
        "## TF Placeholder"
      ]
    },
    {
      "metadata": {
        "id": "2vGr1ZxESdQw",
        "colab_type": "code",
        "colab": {}
      },
      "cell_type": "code",
      "source": [
        "num1 = tf.placeholder(tf.int32)\n",
        "num2 = tf.placeholder(tf.int32)\n",
        "add = tf.add(num1, num2)"
      ],
      "execution_count": 0,
      "outputs": []
    },
    {
      "metadata": {
        "id": "24ynxwFYgTX3",
        "colab_type": "code",
        "outputId": "83b49a76-6e8c-45d9-e42c-76a40bdb9600",
        "colab": {
          "base_uri": "https://localhost:8080/",
          "height": 35
        }
      },
      "cell_type": "code",
      "source": [
        "with tf.Session() as sess:\n",
        "  result = sess.run(add, feed_dict={num1:2, num2:3})\n",
        "  print(result)"
      ],
      "execution_count": 8,
      "outputs": [
        {
          "output_type": "stream",
          "text": [
            "5\n"
          ],
          "name": "stdout"
        }
      ]
    },
    {
      "metadata": {
        "id": "rHZyz7o2lYcn",
        "colab_type": "code",
        "colab": {}
      },
      "cell_type": "code",
      "source": [
        "n1 = tf.placeholder(tf.int32)\n",
        "n2 = tf.placeholder(tf.int32)\n",
        "n_add = tf.add(n1, n2)\n",
        "n_sub = tf.subtract(n_add, tf.constant(5))\n",
        "n_mul = tf.multiply(n_sub, n1)"
      ],
      "execution_count": 0,
      "outputs": []
    },
    {
      "metadata": {
        "id": "dSA-kLT7nPrs",
        "colab_type": "code",
        "outputId": "4633fbdb-9fd0-475b-d33a-368d81021c85",
        "colab": {
          "base_uri": "https://localhost:8080/",
          "height": 35
        }
      },
      "cell_type": "code",
      "source": [
        "with tf.Session() as sess:\n",
        "  result = sess.run(n_mul, feed_dict={n1:10, n2:20})\n",
        "  print(result)"
      ],
      "execution_count": 10,
      "outputs": [
        {
          "output_type": "stream",
          "text": [
            "250\n"
          ],
          "name": "stdout"
        }
      ]
    },
    {
      "metadata": {
        "id": "z3UBLUDOTyUT",
        "colab_type": "text"
      },
      "cell_type": "markdown",
      "source": [
        "## TF Variable"
      ]
    },
    {
      "metadata": {
        "id": "cli9Lf6wn9kX",
        "colab_type": "code",
        "colab": {}
      },
      "cell_type": "code",
      "source": [
        "p = tf.placeholder(tf.float32, shape = [], name = \"p\")\n",
        "v2 = tf.Variable(2. , name = \"v2\")\n",
        "a = tf.add(p, v2)"
      ],
      "execution_count": 0,
      "outputs": []
    },
    {
      "metadata": {
        "id": "VU7FfDeMq30N",
        "colab_type": "code",
        "outputId": "4a233398-6e97-44c4-abb7-0101710f43fd",
        "colab": {
          "base_uri": "https://localhost:8080/",
          "height": 88
        }
      },
      "cell_type": "code",
      "source": [
        "with tf.Session() as sess:\n",
        "  sess.run(tf.global_variables_initializer()) # Initialize global variables\n",
        "  print(sess.run(v2))\n",
        "  \n",
        "  print(sess.run(a, feed_dict={p:20})) #\n",
        "  \n",
        "  try:\n",
        "    sess.run(a) # Need to feed values to evaluate\n",
        "  except Exception as e:\n",
        "    print(\"Error occured.\")\n",
        "    \n",
        "  print(sess.run(v2)) # Variable is accesible"
      ],
      "execution_count": 12,
      "outputs": [
        {
          "output_type": "stream",
          "text": [
            "2.0\n",
            "22.0\n",
            "Error occured.\n",
            "2.0\n"
          ],
          "name": "stdout"
        }
      ]
    },
    {
      "metadata": {
        "id": "DvJ69p8YKSI3",
        "colab_type": "code",
        "colab": {}
      },
      "cell_type": "code",
      "source": [
        "x = np.array([0,1,2,3,4,5,6,7,8,9,10])\n",
        "y = np.array([0,2,4,6,8,10,12,14,16,18,20])"
      ],
      "execution_count": 0,
      "outputs": []
    }
  ]
}