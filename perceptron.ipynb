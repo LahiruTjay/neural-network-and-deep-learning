{
  "nbformat": 4,
  "nbformat_minor": 0,
  "metadata": {
    "colab": {
      "name": "perceptron.ipynb",
      "version": "0.3.2",
      "provenance": [],
      "collapsed_sections": [],
      "toc_visible": true,
      "include_colab_link": true
    },
    "kernelspec": {
      "name": "python3",
      "display_name": "Python 3"
    }
  },
  "cells": [
    {
      "cell_type": "markdown",
      "metadata": {
        "id": "view-in-github",
        "colab_type": "text"
      },
      "source": [
        "<a href=\"https://colab.research.google.com/github/LahiruTjay/neural-networks-and-deep-learning/blob/master/perceptron.ipynb\" target=\"_parent\"><img src=\"https://colab.research.google.com/assets/colab-badge.svg\" alt=\"Open In Colab\"/></a>"
      ]
    },
    {
      "metadata": {
        "id": "k1h6I3c5Gwhz",
        "colab_type": "text"
      },
      "cell_type": "markdown",
      "source": [
        "# Perceptron"
      ]
    },
    {
      "metadata": {
        "id": "3YwtXw56Gu8t",
        "colab_type": "code",
        "colab": {}
      },
      "cell_type": "code",
      "source": [
        "import numpy as np"
      ],
      "execution_count": 0,
      "outputs": []
    },
    {
      "metadata": {
        "id": "Pu1Wu4tYRbdJ",
        "colab_type": "code",
        "colab": {}
      },
      "cell_type": "code",
      "source": [
        "class Perceptron():\n",
        "  \n",
        "  def __init__(self):\n",
        "    np.random.seed(1)\n",
        "    self.synaptic_weights = 2 * np.random.random((3,1)) - 1\n",
        "\n",
        "  def sigmoid(self, x):\n",
        "    return 1 / (1 + np.exp(-x))\n",
        "  \n",
        "  def sigmoid_derivative(self, x):\n",
        "    return x * (1 - x)\n",
        "  \n",
        "  def train(self, training_input, training_output, training_iterations):\n",
        "    \n",
        "    for iteration in range(training_iterations):\n",
        "      \n",
        "      output = self.think(training_input)\n",
        "      error = training_output - output\n",
        "      adjustment = np.dot(training_input.T, error * self.sigmoid_derivative(output))\n",
        "      self.synaptic_weights += adjustment\n",
        "\n",
        "  def think(self, inputs):\n",
        "    inputs = inputs.astype(float)\n",
        "    outputs = self.sigmoid(np.dot(inputs, self.synaptic_weights))\n",
        "    return outputs"
      ],
      "execution_count": 0,
      "outputs": []
    },
    {
      "metadata": {
        "id": "WmOf0qNJTxIP",
        "colab_type": "code",
        "colab": {}
      },
      "cell_type": "code",
      "source": [
        "perceptron = Perceptron()"
      ],
      "execution_count": 0,
      "outputs": []
    },
    {
      "metadata": {
        "id": "HXG5-jgLT4C3",
        "colab_type": "code",
        "outputId": "fdcb34c2-aa22-43fe-d477-32ca604dead4",
        "colab": {
          "base_uri": "https://localhost:8080/",
          "height": 88
        }
      },
      "cell_type": "code",
      "source": [
        "print(\"Weights before training : \")\n",
        "perceptron.synaptic_weights"
      ],
      "execution_count": 4,
      "outputs": [
        {
          "output_type": "stream",
          "text": [
            "Weights before training : \n"
          ],
          "name": "stdout"
        },
        {
          "output_type": "execute_result",
          "data": {
            "text/plain": [
              "array([[-0.16595599],\n",
              "       [ 0.44064899],\n",
              "       [-0.99977125]])"
            ]
          },
          "metadata": {
            "tags": []
          },
          "execution_count": 4
        }
      ]
    },
    {
      "metadata": {
        "id": "tEE_PvPxY-QF",
        "colab_type": "code",
        "colab": {}
      },
      "cell_type": "code",
      "source": [
        "training_inputs = np.array([[0,0,1],\n",
        "                            [1,1,1],\n",
        "                            [1,0,1],\n",
        "                            [0,1,1]])\n",
        "\n",
        "training_outputs = np.array([[0,1,1,0]]).T"
      ],
      "execution_count": 0,
      "outputs": []
    },
    {
      "metadata": {
        "id": "dFq9bRCPZ4S1",
        "colab_type": "code",
        "colab": {}
      },
      "cell_type": "code",
      "source": [
        "perceptron.train(training_inputs, training_outputs, 100000)"
      ],
      "execution_count": 0,
      "outputs": []
    },
    {
      "metadata": {
        "id": "zybcq8csaeSD",
        "colab_type": "code",
        "outputId": "56548f6c-6e26-4255-ad28-1b677116684e",
        "colab": {
          "base_uri": "https://localhost:8080/",
          "height": 88
        }
      },
      "cell_type": "code",
      "source": [
        "print(\"Weights after training : \")\n",
        "perceptron.synaptic_weights"
      ],
      "execution_count": 7,
      "outputs": [
        {
          "output_type": "stream",
          "text": [
            "Weights after training : \n"
          ],
          "name": "stdout"
        },
        {
          "output_type": "execute_result",
          "data": {
            "text/plain": [
              "array([[12.00870061],\n",
              "       [-0.2044116 ],\n",
              "       [-5.8002822 ]])"
            ]
          },
          "metadata": {
            "tags": []
          },
          "execution_count": 7
        }
      ]
    },
    {
      "metadata": {
        "id": "FgVE-Cku8w09",
        "colab_type": "code",
        "outputId": "e1f948d7-ebbb-4b65-adec-f8c4e8b924ba",
        "colab": {
          "base_uri": "https://localhost:8080/",
          "height": 35
        }
      },
      "cell_type": "code",
      "source": [
        "new_data = np.array([[0,0,1]])\n",
        "prediction = perceptron.think(new_data)\n",
        "print(\"Prediction is : \", prediction)"
      ],
      "execution_count": 8,
      "outputs": [
        {
          "output_type": "stream",
          "text": [
            "Prediction is :  [[0.00301757]]\n"
          ],
          "name": "stdout"
        }
      ]
    }
  ]
}